{
  "cells": [
    {
      "cell_type": "code",
      "execution_count": 1,
      "metadata": {},
      "outputs": [],
      "source": [
        "import numpy as np\n",
        "import random\n",
        "import pickle\n",
        "import matplotlib.pyplot as plt\n",
        "import torch\n",
        "import os\n",
        "import sys\n",
        "sys.path.append('..')\n"
      ]
    },
    {
      "cell_type": "code",
      "execution_count": 2,
      "metadata": {},
      "outputs": [],
      "source": [
        "env_list = ['ShadowHand', 'ShadowHandCatchAbreast', 'ShadowHandOver', 'ShadowHandBlockStack', 'ShadowHandCatchUnderarm',\n",
        "        'ShadowHandCatchOver2Underarm', 'ShadowHandBottleCap', 'ShadowHandLiftUnderarm', 'ShadowHandTwoCatchUnderarm', 'ShadowHandDoorOpenInward',\n",
        "        'ShadowHandDoorOpenOutward', 'ShadowHandDoorCloseInward', 'ShadowHandDoorCloseOutward', 'ShadowHandPushBlock', 'ShadowHandKettle',\n",
        "        'ShadowHandScissors', 'ShadowHandPen', 'ShadowHandSwingCup', 'ShadowHandGraspAndPlace', 'ShadowHandSwitch']\n"
      ]
    },
    {
      "cell_type": "code",
      "execution_count": 68,
      "metadata": {},
      "outputs": [],
      "source": [
        "def get_task_length(seeds, ckpts):\n",
        "    task_length = {env: [] for env in env_list}\n",
        "    for env in env_list:\n",
        "        for seed in seeds:\n",
        "            env_path = os.path.join(os.path.abspath(os.getcwd()), '../data/videos', f'seed{str(seed)}', env)\n",
        "            # print(env_path)\n",
        "            if os.path.isdir(env_path):\n",
        "                for file in os.listdir(env_path):\n",
        "                    if file.endswith('.pkl'):\n",
        "                        if any(ckpt in file for ckpt in ckpts):  # only selected ckpts\n",
        "                            with open(os.path.join(env_path, file), 'rb') as f:\n",
        "                                data = pickle.load(f)\n",
        "                                task_length[env].append(len(data['obs']))\n",
        "            \n",
        "    return task_length\n"
      ]
    },
    {
      "cell_type": "code",
      "execution_count": 69,
      "metadata": {},
      "outputs": [
        {
          "name": "stdout",
          "output_type": "stream",
          "text": [
            "[ 5  6  7  8  9 10 11 12 13 14]\n",
            "{'ShadowHand': [599, 41, 599, 83, 60, 122, 57, 79, 599, 599, 599, 598, 184, 599, 472, 599, 466, 406, 414, 39, 288, 296, 92, 49, 322, 599, 416, 598, 56, 598, 33, 39, 599, 599, 80, 86, 84, 295, 60, 430, 58, 129, 23, 33, 506, 598, 334, 566, 598, 599, 422, 124, 53, 228, 598, 599, 27, 281, 599, 121, 225, 547, 122, 42, 534, 122, 356, 599, 598, 599, 27, 20, 598, 598, 599, 46, 599, 123, 599, 599, 264, 134, 69, 348, 145, 448, 56, 257, 436, 43, 488, 79, 498, 599, 598, 40, 39, 44, 599, 599, 598, 352, 556, 216, 599, 599, 598, 226, 206, 599], 'ShadowHandCatchAbreast': [53, 31, 150, 149, 150, 150, 149, 150, 150, 150, 28, 32, 30, 31, 30, 32, 30, 30, 28, 30, 48, 150, 150, 150, 150, 150, 149, 150, 150, 150, 52, 150, 150, 149, 150, 150, 150, 150, 38, 150, 35, 37, 36, 35, 32, 28, 38, 37, 40, 27, 55, 150, 51, 150, 150, 149, 150, 150, 150, 47, 51, 40, 49, 49, 150, 40, 146, 150, 54, 150, 149, 150, 150, 48, 150, 83, 150, 44, 150, 41, 150, 150, 46, 149, 150, 150, 28, 150, 150, 149, 149, 29, 150, 150, 147, 150, 149, 150, 28, 150], 'ShadowHandOver': [75, 75, 74, 75, 75, 75, 75, 75, 57, 74, 74, 75, 75, 75, 75, 75, 75, 75, 74, 75, 75, 75, 75, 75, 75, 74, 75, 74, 75, 75, 75, 75, 48, 75, 75, 75, 75, 75, 74, 74, 75, 75, 35, 75, 75, 75, 75, 74, 75, 74, 75, 75, 74, 75, 75, 75, 59, 74, 75, 75, 75, 75, 42, 75, 65, 75, 61, 75, 75, 75, 74, 75, 74, 75, 75, 75, 75, 75, 75, 75, 57, 75, 74, 74, 75, 75, 75, 75, 49, 75, 60, 75, 75, 75, 75, 74, 74, 75, 75, 75], 'ShadowHandBlockStack': [249, 250, 250, 250, 250, 250, 250, 249, 250, 250, 250, 250, 249, 250, 250, 249, 250, 250, 250, 250, 249, 250, 250, 50, 250, 250, 250, 250, 250, 250, 250, 250, 250, 250, 250, 249, 250, 249, 250, 195, 250, 64, 250, 244, 250, 249, 114, 250, 250, 250, 249, 250, 102, 250, 250, 250, 169, 249, 249, 250, 137, 170, 250, 250, 98, 250, 250, 250, 250, 250, 249, 250, 33, 250, 250, 30, 250, 250, 249, 249, 250, 250, 250, 250, 250, 249, 250, 250, 164, 250, 250, 250, 250, 250, 250, 101, 250, 249, 250, 250, 250, 249, 250, 250, 250], 'ShadowHandCatchUnderarm': [75, 75, 75, 75, 52, 75, 75, 74, 75, 75, 70, 74, 66, 75, 75, 75, 75, 72, 74, 58, 75, 75, 75, 74, 75, 75, 75, 75, 74, 75, 75, 75, 75, 75, 75, 75, 75, 74, 75, 74, 75, 74, 75, 75, 75, 75, 74, 75, 55, 54, 75, 75, 75, 75, 75, 75, 74, 74, 75, 75, 75, 27, 75, 75, 66, 75, 75, 74, 59, 75, 75, 75, 75, 75, 75, 75, 69, 74, 75, 74, 75, 75, 75, 74, 75, 75, 75, 75, 75, 74, 75, 75, 75, 75, 75, 74, 75, 74, 75, 75], 'ShadowHandCatchOver2Underarm': [75, 75, 75, 75, 75, 75, 74, 74, 75, 75, 75, 75, 75, 75, 75, 75, 75, 75, 74, 74, 64, 66, 75, 55, 75, 53, 75, 74, 75, 75, 75, 74, 75, 75, 74, 75, 75, 75, 75, 36, 75, 74, 75, 75, 75, 75, 74, 75, 75, 75, 75, 69, 74, 75, 75, 65, 74, 75, 75, 75, 36, 37, 75, 41, 63, 34, 75, 75, 75, 51, 75, 74, 75, 75, 74, 75, 75, 75, 75, 75, 74, 75, 75, 75, 74, 75, 75, 75, 75, 75, 75, 75, 75, 40, 75, 74, 75, 75, 75, 75], 'ShadowHandBottleCap': [125, 124, 125, 125, 125, 125, 124, 125, 125, 125, 125, 124, 125, 125, 124, 125, 125, 125, 125, 125, 96, 125, 125, 125, 125, 125, 125, 125, 125, 124, 125, 125, 124, 125, 125, 125, 125, 125, 124, 125, 125, 124, 125, 125, 125, 125, 125, 124, 125, 125, 124, 125, 125, 125, 125, 125, 125, 124, 125, 125, 125, 125, 125, 125, 125, 84, 124, 124, 73, 124, 125, 125, 125, 125, 125, 125, 124, 125, 124, 125, 125, 125, 125, 125, 125, 125, 124, 125, 125, 124], 'ShadowHandLiftUnderarm': [500, 500, 500, 500, 500, 500, 500, 499, 499, 500, 404, 500, 340, 500, 500, 499, 383, 337, 232, 373, 500, 500, 500, 400, 500, 499, 500, 301, 114, 204], 'ShadowHandTwoCatchUnderarm': [75, 60, 55, 56, 75, 75, 74, 71, 49, 47, 48, 51, 75, 40, 75, 74, 59, 75, 48, 38, 75, 75, 68, 75, 56, 74, 34, 53, 58, 75, 75, 75, 74, 75, 75, 75, 75, 75, 63, 75, 29, 74, 75, 75, 75, 75, 75, 74, 75, 75, 60, 75, 75, 49, 75, 75, 43, 54, 75, 75, 50, 51, 43, 42, 46, 75, 38, 46, 56, 59, 74, 75, 75, 74, 75, 75, 60, 75, 50, 75, 74, 75, 75, 60, 74, 54, 75, 75, 75, 75, 40, 75, 45, 75, 74, 63, 75, 75, 75, 74], 'ShadowHandDoorOpenInward': [250, 250, 249, 250, 249, 250, 250, 156, 250, 250, 81, 250, 250, 250, 70, 249, 250, 61, 250, 250, 250, 250, 245, 75, 250, 191, 62, 250, 250, 250, 250, 250, 250, 249, 250, 250, 250, 249, 250, 250, 250, 250, 250, 250, 249, 249, 250, 250, 250, 250, 250, 249, 250, 250, 250, 250, 250, 250, 250, 249, 249, 250, 250, 250, 250, 250, 250, 250, 249, 250, 249, 250, 250, 250, 250, 250, 250, 250, 249, 250, 249, 250, 249, 250, 250, 250, 250, 250, 250, 250, 250, 250, 249, 250, 250, 250, 250, 249, 250, 250], 'ShadowHandDoorOpenOutward': [250, 250, 250, 250, 250, 250, 250, 249, 249, 250, 250, 250, 249, 249, 250, 250, 250, 250, 250, 250, 250, 250, 249, 250, 250, 249, 250, 250, 250, 250, 250, 249, 249, 250, 250, 250, 250, 250, 250, 250, 250, 250, 249, 250, 250, 250, 250, 250, 249, 250, 250, 249, 249, 250, 250, 250, 250, 250, 250, 250, 249, 250, 250, 250, 250, 250, 249, 250, 250, 250, 250, 249, 250, 250, 250, 249, 250, 250, 250, 250, 250, 250, 250, 250, 249, 250, 250, 250, 250, 249, 250, 250, 250, 249, 249, 250, 250, 250, 250, 250], 'ShadowHandDoorCloseInward': [250, 250, 250, 250, 249, 250, 250, 249, 250, 250, 249, 250, 250, 250, 250, 249, 250, 250, 250, 250, 250, 249, 250, 250, 249, 250, 250, 250, 250, 250, 249, 250, 250, 250, 250, 250, 249, 250, 250, 250, 250, 250, 250, 249, 250, 250, 250, 250, 250, 249, 250, 249, 250, 249, 250, 250, 250, 250, 250, 250, 250, 250, 250, 249, 250, 250, 250, 250, 249, 186, 249, 250, 250, 250, 249, 250, 250, 250, 250, 250, 250, 250, 250, 250, 250, 250, 250, 249, 249, 250, 249, 249, 250, 250, 250, 250, 250, 250, 250, 250], 'ShadowHandDoorCloseOutward': [250, 250, 250, 250, 250, 249, 250, 249, 250, 250, 250, 249, 250, 249, 250, 250, 250, 250, 250, 250, 250, 250, 249, 250, 250, 249, 250, 250, 250, 250, 249, 250, 250, 249, 250, 250, 250, 250, 250, 250, 250, 250, 250, 250, 250, 249, 249, 250, 250, 250, 250, 250, 250, 249, 250, 250, 250, 249, 250, 250, 191, 203, 166, 250, 250, 250, 249, 250, 250, 249, 250, 250, 250, 250, 250, 249, 250, 249, 250, 250, 250, 250, 249, 249, 250, 250, 250, 250, 250, 250, 249, 250, 250, 250, 249, 250, 250, 250, 250, 250], 'ShadowHandPushBlock': [125, 125, 125, 125, 124, 125, 124, 125, 125, 125, 124, 125, 125, 125, 125, 125, 125, 125, 125, 124, 124, 125, 125, 125, 124, 125, 125, 125, 125, 125, 125, 124, 125, 125, 125, 124, 125, 125, 125, 125, 125, 125, 125, 125, 125, 124, 125, 125, 125, 124, 125, 125, 124, 125, 125, 125, 124, 125, 125, 125, 125, 125, 125, 125, 125, 124, 125, 125, 125, 124, 125, 125, 125, 124, 124, 125, 125, 125, 125, 125, 125, 125, 125, 125, 124, 125, 124, 125, 125, 125, 125, 125, 125, 124, 125, 125, 124, 125, 125, 125], 'ShadowHandKettle': [125, 124, 124, 125, 125, 125, 125, 125, 125, 125, 125, 125, 125, 125, 124, 125, 125, 125, 124, 125, 125, 125, 124, 125, 125, 125, 125, 124, 125, 125, 125, 125, 124, 125, 125, 125, 125, 125, 125, 124], 'ShadowHandScissors': [150, 150, 150, 150, 149, 150, 150, 150, 149, 150, 150, 150, 150, 150, 150, 149, 150, 150, 149, 150, 150, 150, 150, 150, 150, 149, 149, 150, 150, 150, 150, 150, 150, 150, 150, 150, 149, 150, 150, 149, 150, 149, 150, 150, 150, 150, 150, 149, 150, 150, 150, 149, 150, 150, 150, 150, 150, 150, 149, 150, 150, 150, 150, 150, 150, 149, 150, 150, 150, 149, 150, 149, 150, 150, 149, 150, 150, 150, 150, 150, 150, 150, 150, 150, 150, 150, 150, 149, 149, 150, 150, 150, 150, 149, 149, 150, 150, 150, 150, 150], 'ShadowHandPen': [124, 125, 125, 125, 125, 125, 125, 125, 124, 125, 124, 125, 125, 106, 112, 125, 124, 125, 125, 124, 125, 125, 125, 125, 125, 125, 125, 124, 125, 124, 124, 125, 125, 125, 125, 125, 124, 125, 125, 125, 125, 124, 125, 124, 125, 125, 125, 125, 125, 125, 124, 125, 125, 125, 125, 125, 125, 125, 125, 124, 125, 125, 125, 125, 125, 124, 125, 125, 125, 124, 124, 125, 124, 125, 125, 125, 125, 125, 125, 125, 125, 125, 125, 125, 125, 124, 125, 124, 125, 125], 'ShadowHandSwingCup': [300, 300, 299, 300, 300, 300, 299, 300, 300, 300, 300, 300, 300, 300, 299, 276, 300, 300, 281, 300, 300, 300, 300, 300, 300, 299, 300, 300, 300, 299, 299, 300, 300, 300, 300, 300, 300, 300, 239, 300, 300, 300, 299, 299, 300, 300, 300, 300, 300, 300, 299, 300, 300, 300, 300, 300, 300, 77, 299, 300, 69, 300, 300, 126, 300, 300, 299, 300, 300, 299, 300, 300, 300, 300, 300, 300, 299, 300, 300, 300, 300, 299, 300, 300, 300, 300, 300, 300, 300, 300, 299, 299, 300, 300, 300, 299, 300, 300, 300, 300, 300, 300, 299, 300, 300], 'ShadowHandGraspAndPlace': [300, 299, 300, 59, 300, 300, 300, 300, 300, 300, 115, 300, 300, 300, 300, 299, 300, 300, 299, 300, 300, 54, 300, 63, 300, 300, 300, 299, 299, 300, 79, 300, 300, 299, 300, 217, 300, 300, 300, 290, 300, 300, 81, 299, 300, 300, 299, 300, 300, 300, 500, 500, 500, 500, 500, 500, 499, 500, 499, 500, 300, 300, 300, 299, 300, 300, 300, 300, 299, 152, 300, 299, 300, 300, 300, 114, 300, 300, 300, 299, 300, 300, 264, 299, 300, 300, 300, 300, 300, 300], 'ShadowHandSwitch': [125, 125, 125, 125, 124, 125, 125, 125, 125, 124, 125, 125, 125, 125, 125, 125, 125, 124, 124, 125, 124, 125, 125, 125, 125, 125, 124, 125, 125, 125, 125, 125, 125, 124, 125, 124, 125, 125, 125, 125, 125, 125, 124, 124, 125, 125, 125, 125, 125, 125, 125, 124, 125, 124, 125, 125, 125, 125, 125, 125, 124, 125, 124, 125, 125, 125, 125, 125, 125, 125, 125, 125, 125, 125, 124, 125, 125, 124, 125, 125]}\n"
          ]
        }
      ],
      "source": [
        "# seeds = [10, 11]\n",
        "seeds = np.arange(5,14+1)\n",
        "print(seeds)\n",
        "ckpts = ['16000'  '17000' '18000', '19000', '20000']\n",
        "task_length = get_task_length(seeds, ckpts)\n",
        "print(task_length)"
      ]
    },
    {
      "cell_type": "code",
      "execution_count": 70,
      "metadata": {},
      "outputs": [
        {
          "data": {
            "text/plain": [
              "<Figure size 360x360 with 0 Axes>"
            ]
          },
          "metadata": {},
          "output_type": "display_data"
        },
        {
          "data": {
            "text/plain": [
              "<Figure size 360x360 with 0 Axes>"
            ]
          },
          "metadata": {},
          "output_type": "display_data"
        },
        {
          "data": {
            "text/plain": [
              "<Figure size 360x360 with 0 Axes>"
            ]
          },
          "metadata": {},
          "output_type": "display_data"
        },
        {
          "data": {
            "text/plain": [
              "<Figure size 360x360 with 0 Axes>"
            ]
          },
          "metadata": {},
          "output_type": "display_data"
        },
        {
          "data": {
            "text/plain": [
              "<Figure size 360x360 with 0 Axes>"
            ]
          },
          "metadata": {},
          "output_type": "display_data"
        },
        {
          "data": {
            "text/plain": [
              "<Figure size 360x360 with 0 Axes>"
            ]
          },
          "metadata": {},
          "output_type": "display_data"
        },
        {
          "data": {
            "text/plain": [
              "<Figure size 360x360 with 0 Axes>"
            ]
          },
          "metadata": {},
          "output_type": "display_data"
        },
        {
          "data": {
            "text/plain": [
              "<Figure size 360x360 with 0 Axes>"
            ]
          },
          "metadata": {},
          "output_type": "display_data"
        },
        {
          "data": {
            "text/plain": [
              "<Figure size 360x360 with 0 Axes>"
            ]
          },
          "metadata": {},
          "output_type": "display_data"
        },
        {
          "data": {
            "text/plain": [
              "<Figure size 360x360 with 0 Axes>"
            ]
          },
          "metadata": {},
          "output_type": "display_data"
        },
        {
          "data": {
            "text/plain": [
              "<Figure size 360x360 with 0 Axes>"
            ]
          },
          "metadata": {},
          "output_type": "display_data"
        },
        {
          "data": {
            "text/plain": [
              "<Figure size 360x360 with 0 Axes>"
            ]
          },
          "metadata": {},
          "output_type": "display_data"
        },
        {
          "data": {
            "text/plain": [
              "<Figure size 360x360 with 0 Axes>"
            ]
          },
          "metadata": {},
          "output_type": "display_data"
        },
        {
          "data": {
            "text/plain": [
              "<Figure size 360x360 with 0 Axes>"
            ]
          },
          "metadata": {},
          "output_type": "display_data"
        },
        {
          "data": {
            "text/plain": [
              "<Figure size 360x360 with 0 Axes>"
            ]
          },
          "metadata": {},
          "output_type": "display_data"
        },
        {
          "data": {
            "text/plain": [
              "<Figure size 360x360 with 0 Axes>"
            ]
          },
          "metadata": {},
          "output_type": "display_data"
        },
        {
          "data": {
            "text/plain": [
              "<Figure size 360x360 with 0 Axes>"
            ]
          },
          "metadata": {},
          "output_type": "display_data"
        },
        {
          "data": {
            "text/plain": [
              "<Figure size 360x360 with 0 Axes>"
            ]
          },
          "metadata": {},
          "output_type": "display_data"
        },
        {
          "data": {
            "text/plain": [
              "<Figure size 360x360 with 0 Axes>"
            ]
          },
          "metadata": {},
          "output_type": "display_data"
        },
        {
          "data": {
            "text/plain": [
              "<Figure size 360x360 with 0 Axes>"
            ]
          },
          "metadata": {},
          "output_type": "display_data"
        }
      ],
      "source": [
        "import seaborn as sns\n",
        "import pandas as pd\n",
        "sns.set(font_scale=1.3)\n",
        "\n",
        "for env in env_list:\n",
        "    sns.displot(data=task_length[env], bins=10, color=\"dodgerblue\",  kde=True)\n",
        "    plt.xlabel('Trajectory Length')\n",
        "    # plt.ylabel('Human Preference Score')\n",
        "    plt.title(f'{env}')\n",
        "    # autoscale the plot to include all bars and labels\n",
        "    plt.autoscale(tight=False)\n",
        "    plt.savefig(f'./figs/traj_length/{env}_length.png', dpi=300)\n",
        "    # plt.show()\n",
        "    plt.clf()\n"
      ]
    },
    {
      "cell_type": "code",
      "execution_count": 72,
      "metadata": {},
      "outputs": [
        {
          "name": "stdout",
          "output_type": "stream",
          "text": [
            "1840\n"
          ]
        }
      ],
      "source": [
        "all_length = []\n",
        "for env in env_list:\n",
        "    all_length += task_length[env]\n",
        "print(len(all_length))"
      ]
    },
    {
      "cell_type": "code",
      "execution_count": 83,
      "metadata": {},
      "outputs": [
        {
          "data": {
            "text/plain": [
              "<Figure size 432x288 with 0 Axes>"
            ]
          },
          "metadata": {},
          "output_type": "display_data"
        }
      ],
      "source": [
        "import seaborn as sns\n",
        "import pandas as pd\n",
        "sns.set(font_scale=1.3)\n",
        "\n",
        "# figure size in inches\n",
        "sns.displot(data=all_length, bins=10, color=\"dodgerblue\",  kde=True, height=4, aspect=1.5)\n",
        "plt.xlabel('Trajectory Length')\n",
        "# plt.ylabel('Human Preference Score')\n",
        "plt.title(f'Trajectory Length Over 20 Tasks')\n",
        "# autoscale the plot to include all bars and labels\n",
        "# plt.autoscale(tight=True)\n",
        "plt.savefig(f'./figs/traj_length/all_length.png', dpi=300)\n",
        "# plt.show()\n",
        "plt.clf()\n"
      ]
    },
    {
      "cell_type": "code",
      "execution_count": null,
      "metadata": {},
      "outputs": [],
      "source": []
    }
  ],
  "metadata": {
    "colab": {
      "collapsed_sections": [
        "_gDkU-j-fCmZ",
        "3Zpv4S0-fDBv"
      ],
      "name": "Stock_NeurIPS2018.ipynb",
      "provenance": []
    },
    "kernelspec": {
      "display_name": "Python 3.7.0 ('x')",
      "language": "python",
      "name": "python3"
    },
    "language_info": {
      "codemirror_mode": {
        "name": "ipython",
        "version": 3
      },
      "file_extension": ".py",
      "mimetype": "text/x-python",
      "name": "python",
      "nbconvert_exporter": "python",
      "pygments_lexer": "ipython3",
      "version": "3.7.0"
    },
    "vscode": {
      "interpreter": {
        "hash": "28c6861e59928cb790236f7047915368f37afc12f670e78fd0101a6f825a02b1"
      }
    }
  },
  "nbformat": 4,
  "nbformat_minor": 0
}
