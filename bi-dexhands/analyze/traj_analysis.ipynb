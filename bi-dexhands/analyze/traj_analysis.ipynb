{
  "cells": [
    {
      "cell_type": "code",
      "execution_count": 10,
      "metadata": {},
      "outputs": [],
      "source": [
        "import pickle\n",
        "import numpy as np"
      ]
    },
    {
      "cell_type": "code",
      "execution_count": 13,
      "metadata": {},
      "outputs": [
        {
          "name": "stdout",
          "output_type": "stream",
          "text": [
            "dict_keys(['obs', 'actions', 'rewards', 'dones', 'next_obs'])\n",
            "(124, 1, 423)\n",
            "(124, 1, 52)\n"
          ]
        }
      ],
      "source": [
        "traj_data_path = './videos/test1/ShadowHandPushBlock_ppo_20221207232246/'\n",
        "it = 0\n",
        "traj_data = pickle.load(open(traj_data_path+f'traj-episode-{it}.pkl', 'rb'))\n",
        "print(traj_data.keys())\n",
        "print(np.array(traj_data['obs']).shape)\n",
        "print(np.array(traj_data['actions']).shape)"
      ]
    },
    {
      "cell_type": "code",
      "execution_count": null,
      "metadata": {},
      "outputs": [],
      "source": [
        "# Observation space:\n",
        "# Index       Description\n",
        "# 0 - 23\t    right shadow hand dof position\n",
        "# 24 - 47\t    right shadow hand dof velocity\n",
        "# 48 - 71\t    right shadow hand dof force\n",
        "# 72 - 136\tright shadow hand fingertip pose, linear velocity, angle velocity (5 x 13)\n",
        "# 137 - 166\tright shadow hand fingertip force, torque (5 x 6)\n",
        "# 167 - 169\tright shadow hand base position\n",
        "# 170 - 172\tright shadow hand base rotation\n",
        "# 173 - 198\tright shadow hand actions\n",
        "# 199 - 222\tleft shadow hand dof position\n",
        "# 223 - 246\tleft shadow hand dof velocity\n",
        "# 247 - 270\tleft shadow hand dof force\n",
        "# 271 - 335\tleft shadow hand fingertip pose, linear velocity, angle velocity (5 x 13)\n",
        "# 336 - 365\tleft shadow hand fingertip force, torque (5 x 6)\n",
        "# 366 - 368\tleft shadow hand base position\n",
        "# 369 - 371\tleft shadow hand base rotation\n",
        "# 372 - 397\tleft shadow hand actions"
      ]
    }
  ],
  "metadata": {
    "colab": {
      "collapsed_sections": [
        "_gDkU-j-fCmZ",
        "3Zpv4S0-fDBv"
      ],
      "name": "Stock_NeurIPS2018.ipynb",
      "provenance": []
    },
    "kernelspec": {
      "display_name": "Python 3.7.0 ('x')",
      "language": "python",
      "name": "python3"
    },
    "language_info": {
      "codemirror_mode": {
        "name": "ipython",
        "version": 3
      },
      "file_extension": ".py",
      "mimetype": "text/x-python",
      "name": "python",
      "nbconvert_exporter": "python",
      "pygments_lexer": "ipython3",
      "version": "3.7.0"
    },
    "vscode": {
      "interpreter": {
        "hash": "28c6861e59928cb790236f7047915368f37afc12f670e78fd0101a6f825a02b1"
      }
    }
  },
  "nbformat": 4,
  "nbformat_minor": 0
}
