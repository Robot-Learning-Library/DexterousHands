{
  "cells": [
    {
      "cell_type": "code",
      "execution_count": 1,
      "metadata": {},
      "outputs": [],
      "source": [
        "import numpy as np\n",
        "import random\n",
        "import pickle\n",
        "import matplotlib.pyplot as plt\n",
        "import torch\n",
        "import os\n",
        "import sys\n",
        "sys.path.append('..')\n",
        "\n",
        "from utils.data_process import data_process"
      ]
    },
    {
      "cell_type": "code",
      "execution_count": 137,
      "metadata": {},
      "outputs": [],
      "source": [
        "env_list = ['ShadowHand', 'ShadowHandCatchAbreast', 'ShadowHandOver', 'ShadowHandBlockStack', 'ShadowHandCatchUnderarm',\n",
        "        'ShadowHandCatchOver2Underarm', 'ShadowHandBottleCap', 'ShadowHandLiftUnderarm', 'ShadowHandTwoCatchUnderarm', 'ShadowHandDoorOpenInward',\n",
        "        'ShadowHandDoorOpenOutward', 'ShadowHandDoorCloseInward', 'ShadowHandDoorCloseOutward', 'ShadowHandPushBlock', 'ShadowHandKettle',\n",
        "        'ShadowHandScissors', 'ShadowHandPen', 'ShadowHandSwingCup', 'ShadowHandGraspAndPlace', 'ShadowHandSwitch']\n"
      ]
    },
    {
      "cell_type": "code",
      "execution_count": 6,
      "metadata": {},
      "outputs": [],
      "source": [
        "def eval_rm(seed_list, traj_path, model_idx, obs_dim, act_dim, frame_number, reward_model, verbose=False):\n",
        "    scores = {env: {} for env in env_list}\n",
        "    for env_name in env_list:\n",
        "        for seed in seed_list:\n",
        "            path = os.path.join(traj_path, f'seed{seed}')\n",
        "            scores[env_name][seed] = {'scores': [],\n",
        "                                        'mean': 0,\n",
        "                                        'std': 0\n",
        "            }\n",
        "            file__cnt = 0\n",
        "            file_path = os.path.join(path, env_name)\n",
        "            try:\n",
        "                files = os.listdir(file_path)\n",
        "            except:\n",
        "                print('No such file or directory: ', file_path)\n",
        "                continue\n",
        "            for file in files:\n",
        "                # if file.endswith('.pkl'):\n",
        "                if file.endswith('.pkl') and file.split('_')[4] in model_idx:  # name: ShadowHandBlockStack_ppo_4_20221211002936_20000_traj-episode-0.pkl\n",
        "                    # print(file)\n",
        "                    file__cnt += 1 \n",
        "                    with open(os.path.join(path, env_name, file), 'rb') as f:\n",
        "                        traj = pickle.load(f)\n",
        "                        obs, action = data_process(traj, env_name)\n",
        "                        # print(obs.shape, action.shape)\n",
        "                        if obs.shape[1] ==  2*obs_dim and action.shape[1] == 2*act_dim:\n",
        "                            obs = obs.reshape(-1, 2, obs_dim)\n",
        "                            action = action.reshape(-1, 2, act_dim)\n",
        "                            # print(obs.shape, action.shape)\n",
        "                            oa = np.concatenate((obs, action), axis=-1).swapaxes(0,1) # (2, traj_length, obs_dim+act_dim)\n",
        "                            # print(oa.shape)\n",
        "                            slice_oa = np.array([[np.concatenate(s[i:i+frame_number]) for i in range(s.shape[0]-frame_number+1)] for s in oa]) # (2, batch, frame_number*(obs_dim+act_dim) )\n",
        "                            # print(slice_oa.shape)\n",
        "                        else:\n",
        "                            oa = np.concatenate((obs, action), axis=-1)\n",
        "                            slice_oa = np.array([np.concatenate(oa[i:i+frame_number]) for i in range(oa.shape[0]-frame_number+1)])  # (batch, frame_number*(obs_dim+act_dim) )\n",
        "                            # print(slice_oa.shape)\n",
        "                        score = reward_model(torch.tensor(slice_oa)) \n",
        "                        # print(score.shape)\n",
        "                        mean_score = torch.mean(score).detach().numpy()\n",
        "                        # print(mean_score)\n",
        "                        scores[env_name][seed]['scores'].append(mean_score)\n",
        "            # get avg score for seed over trajs\n",
        "            scores[env_name][seed]['mean'] = np.mean(scores[env_name][seed]['scores'])  \n",
        "            scores[env_name][seed]['std'] = np.std(scores[env_name][seed]['scores'])                   \n",
        "\n",
        "            if verbose:\n",
        "                if file__cnt == 0:\n",
        "                    print(f'Env {env_name} seed {seed} model index {model_idx} not found.')\n",
        "                else:\n",
        "                    print(f'Env {env_name} seed {seed} model index {model_idx} found {file__cnt} trajs.')\n",
        "\n",
        "        # break\n",
        "    return scores"
      ]
    },
    {
      "cell_type": "code",
      "execution_count": 135,
      "metadata": {},
      "outputs": [],
      "source": [
        "def plot_bar_result(scores, frame_number, itr):\n",
        "    # plot\n",
        "    os.makedirs(f'figs/itr{itr}/model_{frame_number}/bar', exist_ok=True)\n",
        "    env = env_list[0]\n",
        "    for env in env_list:\n",
        "        plt.figure(figsize=(6, 5))\n",
        "        x=list(scores[env].keys())\n",
        "        x=[str(seed) for seed in x]\n",
        "        y=[scores[env][seed]['mean'] for seed in scores[env].keys()]\n",
        "        # create bar plot\n",
        "        for i, v in enumerate(y):\n",
        "            if v < 0:\n",
        "                color = 'r'\n",
        "            else:\n",
        "                color = 'g'\n",
        "            plt.bar(x[i], v, yerr=[scores[env][seed]['std'] for seed in scores[env].keys()][i], color=color, align='center',capsize=5, linewidth=2, alpha=0.5, ecolor='black')\n",
        "        # add value labels on top of bars\n",
        "        for i, v in enumerate(y):\n",
        "            if v > 0:\n",
        "                plt.text(i-0.1, v+0.03, str(round(v, 3)), fontsize=10)\n",
        "            else:\n",
        "                plt.text(i-0.1, v-0.03, str(round(v, 3)), fontsize=10)\n",
        "\n",
        "        plt.xlabel('Model Index')\n",
        "        plt.ylabel('Human Preference Score')\n",
        "        plt.title(f'Reward Model Evaluation: {env}')\n",
        "        # autoscale the plot to include all bars and labels\n",
        "        plt.autoscale(tight=False)\n",
        "        # plt.tight_layout()\n",
        "        plt.savefig(f'figs/itr{itr}/model_{frame_number}/bar/{env}_reward_model_eval.png', dpi=300)\n",
        "        # plt.show()\n",
        "        plt.clf()"
      ]
    },
    {
      "cell_type": "code",
      "execution_count": 140,
      "metadata": {},
      "outputs": [],
      "source": [
        "import seaborn as sns\n",
        "\n",
        "def plot_violin_result(scores, frame_number, itr):\n",
        "    # plot\n",
        "    os.makedirs(f'figs/itr{itr}/model_{frame_number}/violin', exist_ok=True)\n",
        "    env = env_list[0]\n",
        "    for env in env_list:\n",
        "        plt.figure(figsize=(6, 5))\n",
        "        x=list(scores[env].keys())\n",
        "        # x=[str(seed) for seed in x]\n",
        "        means=[scores[env][seed]['mean'] for seed in scores[env].keys()]\n",
        "        y=[np.array(scores[env][seed]['scores']) for seed in scores[env].keys()]\n",
        "        # create violin plot\n",
        "        colors = []\n",
        "        for i, v in enumerate(means):\n",
        "            if v < 0:\n",
        "                colors.append('#F08030') # orange\n",
        "            else:\n",
        "                colors.append('#6890F0') # blue\n",
        "        sns.violinplot(data=y, inner='box', palette = colors, saturation=0.7) # box: 25, 50, 75 quantiles\n",
        "        # add value labels on top of bars\n",
        "        # for i, v in enumerate(y):\n",
        "        #     if v > 0:\n",
        "        #         plt.text(i-0.1, v+0.03, str(round(v, 3)), fontsize=10)\n",
        "        #     else:\n",
        "        #         plt.text(i-0.1, v-0.03, str(round(v, 3)), fontsize=10)\n",
        "\n",
        "        # plt.xticks(range(len(x)), x)  # comment this give 0-9\n",
        "        plt.grid(True)\n",
        "        plt.xlabel('Model Index')\n",
        "        plt.ylabel('Human Preference Score')\n",
        "        plt.title(f'Reward Model Evaluation: {env}')\n",
        "        # autoscale the plot to include all bars and labels\n",
        "        plt.autoscale(tight=False)\n",
        "        # plt.tight_layout()\n",
        "        plt.savefig(f'figs/itr{itr}/model_{frame_number}/violin/{env}_reward_model_eval.png', dpi=300)\n",
        "        # plt.show()\n",
        "        plt.clf()"
      ]
    },
    {
      "cell_type": "code",
      "execution_count": 141,
      "metadata": {},
      "outputs": [
        {
          "name": "stderr",
          "output_type": "stream",
          "text": [
            "/home/quantumiracle/anaconda3/envs/x/lib/python3.7/site-packages/numpy/core/fromnumeric.py:3441: RuntimeWarning: Mean of empty slice.\n",
            "  out=out, **kwargs)\n",
            "/home/quantumiracle/anaconda3/envs/x/lib/python3.7/site-packages/numpy/core/_methods.py:189: RuntimeWarning: invalid value encountered in double_scalars\n",
            "  ret = ret.dtype.type(ret / rcount)\n",
            "/home/quantumiracle/anaconda3/envs/x/lib/python3.7/site-packages/numpy/core/_methods.py:263: RuntimeWarning: Degrees of freedom <= 0 for slice\n",
            "  keepdims=keepdims, where=where)\n",
            "/home/quantumiracle/anaconda3/envs/x/lib/python3.7/site-packages/numpy/core/_methods.py:223: RuntimeWarning: invalid value encountered in true_divide\n",
            "  subok=False)\n",
            "/home/quantumiracle/anaconda3/envs/x/lib/python3.7/site-packages/numpy/core/_methods.py:254: RuntimeWarning: invalid value encountered in double_scalars\n",
            "  ret = ret.dtype.type(ret / rcount)\n"
          ]
        },
        {
          "name": "stdout",
          "output_type": "stream",
          "text": [
            "No such file or directory:  data/videos/seed5/ShadowHandLiftUnderarm\n",
            "No such file or directory:  data/videos/seed6/ShadowHandLiftUnderarm\n",
            "No such file or directory:  data/videos/seed7/ShadowHandLiftUnderarm\n",
            "No such file or directory:  data/videos/seed8/ShadowHandLiftUnderarm\n",
            "No such file or directory:  data/videos/seed9/ShadowHandLiftUnderarm\n",
            "No such file or directory:  data/videos/seed14/ShadowHandLiftUnderarm\n",
            "No such file or directory:  data/videos/seed5/ShadowHandKettle\n",
            "No such file or directory:  data/videos/seed6/ShadowHandKettle\n",
            "No such file or directory:  data/videos/seed7/ShadowHandKettle\n",
            "No such file or directory:  data/videos/seed8/ShadowHandKettle\n",
            "No such file or directory:  data/videos/seed9/ShadowHandKettle\n",
            "No such file or directory:  data/videos/seed14/ShadowHandKettle\n"
          ]
        },
        {
          "name": "stderr",
          "output_type": "stream",
          "text": [
            "posx and posy should be finite values\n",
            "posx and posy should be finite values\n",
            "posx and posy should be finite values\n",
            "posx and posy should be finite values\n",
            "posx and posy should be finite values\n",
            "posx and posy should be finite values\n",
            "posx and posy should be finite values\n",
            "posx and posy should be finite values\n",
            "posx and posy should be finite values\n",
            "posx and posy should be finite values\n",
            "posx and posy should be finite values\n",
            "posx and posy should be finite values\n",
            "posx and posy should be finite values\n",
            "posx and posy should be finite values\n",
            "posx and posy should be finite values\n",
            "posx and posy should be finite values\n",
            "posx and posy should be finite values\n",
            "posx and posy should be finite values\n",
            "posx and posy should be finite values\n",
            "posx and posy should be finite values\n",
            "/home/quantumiracle/anaconda3/envs/x/lib/python3.7/site-packages/ipykernel_launcher.py:8: RuntimeWarning: More than 20 figures have been opened. Figures created through the pyplot interface (`matplotlib.pyplot.figure`) are retained until explicitly closed and may consume too much memory. (To control this warning, see the rcParam `figure.max_open_warning`).\n",
            "  \n"
          ]
        },
        {
          "data": {
            "text/plain": [
              "<Figure size 432x360 with 0 Axes>"
            ]
          },
          "metadata": {},
          "output_type": "display_data"
        },
        {
          "data": {
            "text/plain": [
              "<Figure size 432x360 with 0 Axes>"
            ]
          },
          "metadata": {},
          "output_type": "display_data"
        },
        {
          "data": {
            "text/plain": [
              "<Figure size 432x360 with 0 Axes>"
            ]
          },
          "metadata": {},
          "output_type": "display_data"
        },
        {
          "data": {
            "text/plain": [
              "<Figure size 432x360 with 0 Axes>"
            ]
          },
          "metadata": {},
          "output_type": "display_data"
        },
        {
          "data": {
            "text/plain": [
              "<Figure size 432x360 with 0 Axes>"
            ]
          },
          "metadata": {},
          "output_type": "display_data"
        },
        {
          "data": {
            "text/plain": [
              "<Figure size 432x360 with 0 Axes>"
            ]
          },
          "metadata": {},
          "output_type": "display_data"
        },
        {
          "data": {
            "text/plain": [
              "<Figure size 432x360 with 0 Axes>"
            ]
          },
          "metadata": {},
          "output_type": "display_data"
        },
        {
          "data": {
            "text/plain": [
              "<Figure size 432x360 with 0 Axes>"
            ]
          },
          "metadata": {},
          "output_type": "display_data"
        },
        {
          "data": {
            "text/plain": [
              "<Figure size 432x360 with 0 Axes>"
            ]
          },
          "metadata": {},
          "output_type": "display_data"
        },
        {
          "data": {
            "text/plain": [
              "<Figure size 432x360 with 0 Axes>"
            ]
          },
          "metadata": {},
          "output_type": "display_data"
        },
        {
          "data": {
            "text/plain": [
              "<Figure size 432x360 with 0 Axes>"
            ]
          },
          "metadata": {},
          "output_type": "display_data"
        },
        {
          "data": {
            "text/plain": [
              "<Figure size 432x360 with 0 Axes>"
            ]
          },
          "metadata": {},
          "output_type": "display_data"
        },
        {
          "data": {
            "text/plain": [
              "<Figure size 432x360 with 0 Axes>"
            ]
          },
          "metadata": {},
          "output_type": "display_data"
        },
        {
          "data": {
            "text/plain": [
              "<Figure size 432x360 with 0 Axes>"
            ]
          },
          "metadata": {},
          "output_type": "display_data"
        },
        {
          "data": {
            "text/plain": [
              "<Figure size 432x360 with 0 Axes>"
            ]
          },
          "metadata": {},
          "output_type": "display_data"
        },
        {
          "data": {
            "text/plain": [
              "<Figure size 432x360 with 0 Axes>"
            ]
          },
          "metadata": {},
          "output_type": "display_data"
        },
        {
          "data": {
            "text/plain": [
              "<Figure size 432x360 with 0 Axes>"
            ]
          },
          "metadata": {},
          "output_type": "display_data"
        },
        {
          "data": {
            "text/plain": [
              "<Figure size 432x360 with 0 Axes>"
            ]
          },
          "metadata": {},
          "output_type": "display_data"
        },
        {
          "data": {
            "text/plain": [
              "<Figure size 432x360 with 0 Axes>"
            ]
          },
          "metadata": {},
          "output_type": "display_data"
        },
        {
          "data": {
            "text/plain": [
              "<Figure size 432x360 with 0 Axes>"
            ]
          },
          "metadata": {},
          "output_type": "display_data"
        },
        {
          "data": {
            "text/plain": [
              "<Figure size 432x360 with 0 Axes>"
            ]
          },
          "metadata": {},
          "output_type": "display_data"
        },
        {
          "data": {
            "text/plain": [
              "<Figure size 432x360 with 0 Axes>"
            ]
          },
          "metadata": {},
          "output_type": "display_data"
        },
        {
          "data": {
            "text/plain": [
              "<Figure size 432x360 with 0 Axes>"
            ]
          },
          "metadata": {},
          "output_type": "display_data"
        },
        {
          "data": {
            "text/plain": [
              "<Figure size 432x360 with 0 Axes>"
            ]
          },
          "metadata": {},
          "output_type": "display_data"
        },
        {
          "data": {
            "text/plain": [
              "<Figure size 432x360 with 0 Axes>"
            ]
          },
          "metadata": {},
          "output_type": "display_data"
        },
        {
          "data": {
            "text/plain": [
              "<Figure size 432x360 with 0 Axes>"
            ]
          },
          "metadata": {},
          "output_type": "display_data"
        },
        {
          "data": {
            "text/plain": [
              "<Figure size 432x360 with 0 Axes>"
            ]
          },
          "metadata": {},
          "output_type": "display_data"
        },
        {
          "data": {
            "text/plain": [
              "<Figure size 432x360 with 0 Axes>"
            ]
          },
          "metadata": {},
          "output_type": "display_data"
        },
        {
          "data": {
            "text/plain": [
              "<Figure size 432x360 with 0 Axes>"
            ]
          },
          "metadata": {},
          "output_type": "display_data"
        },
        {
          "data": {
            "text/plain": [
              "<Figure size 432x360 with 0 Axes>"
            ]
          },
          "metadata": {},
          "output_type": "display_data"
        },
        {
          "data": {
            "text/plain": [
              "<Figure size 432x360 with 0 Axes>"
            ]
          },
          "metadata": {},
          "output_type": "display_data"
        },
        {
          "data": {
            "text/plain": [
              "<Figure size 432x360 with 0 Axes>"
            ]
          },
          "metadata": {},
          "output_type": "display_data"
        },
        {
          "data": {
            "text/plain": [
              "<Figure size 432x360 with 0 Axes>"
            ]
          },
          "metadata": {},
          "output_type": "display_data"
        },
        {
          "data": {
            "text/plain": [
              "<Figure size 432x360 with 0 Axes>"
            ]
          },
          "metadata": {},
          "output_type": "display_data"
        },
        {
          "data": {
            "text/plain": [
              "<Figure size 432x360 with 0 Axes>"
            ]
          },
          "metadata": {},
          "output_type": "display_data"
        },
        {
          "data": {
            "text/plain": [
              "<Figure size 432x360 with 0 Axes>"
            ]
          },
          "metadata": {},
          "output_type": "display_data"
        },
        {
          "data": {
            "text/plain": [
              "<Figure size 432x360 with 0 Axes>"
            ]
          },
          "metadata": {},
          "output_type": "display_data"
        },
        {
          "data": {
            "text/plain": [
              "<Figure size 432x360 with 0 Axes>"
            ]
          },
          "metadata": {},
          "output_type": "display_data"
        },
        {
          "data": {
            "text/plain": [
              "<Figure size 432x360 with 0 Axes>"
            ]
          },
          "metadata": {},
          "output_type": "display_data"
        },
        {
          "data": {
            "text/plain": [
              "<Figure size 432x360 with 0 Axes>"
            ]
          },
          "metadata": {},
          "output_type": "display_data"
        }
      ],
      "source": [
        "itr=1\n",
        "frame_number = 8\n",
        "obs_dim=24\n",
        "act_dim=20\n",
        "device='cpu'\n",
        "algo='ppo'\n",
        "model_idx = ['20000']\n",
        "# seed_list = [3,4,5,6,7,8,9,10,11,12,13,14]\n",
        "seed_list = [5,6,7,8,9,10,11,12,13,14] # select 10\n",
        "\n",
        "reward_model = torch.jit.load(f'./reward_model/itr{itr}/model_{frame_number}_gpu.pt', map_location=device)\n",
        "traj_path = 'data/videos'\n",
        "scores = eval_rm(seed_list, traj_path, model_idx, obs_dim, act_dim, frame_number, reward_model)\n",
        "plot_bar_result(scores, frame_number, itr)\n",
        "plot_violin_result(scores, frame_number, itr)\n"
      ]
    },
    {
      "cell_type": "code",
      "execution_count": 132,
      "metadata": {},
      "outputs": [],
      "source": [
        "# select 16 envs (Grasp and Place has problem)\n",
        "env_list = ['ShadowHand', 'ShadowHandCatchAbreast', 'ShadowHandOver', 'ShadowHandBlockStack', 'ShadowHandCatchUnderarm',\n",
        "        'ShadowHandCatchOver2Underarm', 'ShadowHandBottleCap', 'ShadowHandLiftUnderarm', 'ShadowHandTwoCatchUnderarm', 'ShadowHandDoorOpenInward',\n",
        "        'ShadowHandDoorOpenOutward', 'ShadowHandDoorCloseInward', 'ShadowHandPushBlock',\n",
        "        'ShadowHandScissors', 'ShadowHandPen', 'ShadowHandSwitch']\n"
      ]
    },
    {
      "cell_type": "code",
      "execution_count": 133,
      "metadata": {},
      "outputs": [
        {
          "name": "stderr",
          "output_type": "stream",
          "text": [
            "/home/quantumiracle/anaconda3/envs/x/lib/python3.7/site-packages/numpy/core/fromnumeric.py:3441: RuntimeWarning: Mean of empty slice.\n",
            "  out=out, **kwargs)\n",
            "/home/quantumiracle/anaconda3/envs/x/lib/python3.7/site-packages/numpy/core/_methods.py:189: RuntimeWarning: invalid value encountered in double_scalars\n",
            "  ret = ret.dtype.type(ret / rcount)\n",
            "/home/quantumiracle/anaconda3/envs/x/lib/python3.7/site-packages/numpy/core/_methods.py:263: RuntimeWarning: Degrees of freedom <= 0 for slice\n",
            "  keepdims=keepdims, where=where)\n",
            "/home/quantumiracle/anaconda3/envs/x/lib/python3.7/site-packages/numpy/core/_methods.py:223: RuntimeWarning: invalid value encountered in true_divide\n",
            "  subok=False)\n",
            "/home/quantumiracle/anaconda3/envs/x/lib/python3.7/site-packages/numpy/core/_methods.py:254: RuntimeWarning: invalid value encountered in double_scalars\n",
            "  ret = ret.dtype.type(ret / rcount)\n"
          ]
        },
        {
          "data": {
            "text/plain": [
              "<Figure size 432x360 with 0 Axes>"
            ]
          },
          "metadata": {},
          "output_type": "display_data"
        },
        {
          "data": {
            "text/plain": [
              "<Figure size 432x360 with 0 Axes>"
            ]
          },
          "metadata": {},
          "output_type": "display_data"
        },
        {
          "data": {
            "text/plain": [
              "<Figure size 432x360 with 0 Axes>"
            ]
          },
          "metadata": {},
          "output_type": "display_data"
        },
        {
          "data": {
            "text/plain": [
              "<Figure size 432x360 with 0 Axes>"
            ]
          },
          "metadata": {},
          "output_type": "display_data"
        },
        {
          "data": {
            "text/plain": [
              "<Figure size 432x360 with 0 Axes>"
            ]
          },
          "metadata": {},
          "output_type": "display_data"
        },
        {
          "data": {
            "text/plain": [
              "<Figure size 432x360 with 0 Axes>"
            ]
          },
          "metadata": {},
          "output_type": "display_data"
        },
        {
          "data": {
            "text/plain": [
              "<Figure size 432x360 with 0 Axes>"
            ]
          },
          "metadata": {},
          "output_type": "display_data"
        },
        {
          "data": {
            "text/plain": [
              "<Figure size 432x360 with 0 Axes>"
            ]
          },
          "metadata": {},
          "output_type": "display_data"
        },
        {
          "data": {
            "text/plain": [
              "<Figure size 432x360 with 0 Axes>"
            ]
          },
          "metadata": {},
          "output_type": "display_data"
        },
        {
          "data": {
            "text/plain": [
              "<Figure size 432x360 with 0 Axes>"
            ]
          },
          "metadata": {},
          "output_type": "display_data"
        },
        {
          "data": {
            "text/plain": [
              "<Figure size 432x360 with 0 Axes>"
            ]
          },
          "metadata": {},
          "output_type": "display_data"
        },
        {
          "data": {
            "text/plain": [
              "<Figure size 432x360 with 0 Axes>"
            ]
          },
          "metadata": {},
          "output_type": "display_data"
        },
        {
          "data": {
            "text/plain": [
              "<Figure size 432x360 with 0 Axes>"
            ]
          },
          "metadata": {},
          "output_type": "display_data"
        },
        {
          "data": {
            "text/plain": [
              "<Figure size 432x360 with 0 Axes>"
            ]
          },
          "metadata": {},
          "output_type": "display_data"
        },
        {
          "data": {
            "text/plain": [
              "<Figure size 432x360 with 0 Axes>"
            ]
          },
          "metadata": {},
          "output_type": "display_data"
        },
        {
          "data": {
            "text/plain": [
              "<Figure size 432x360 with 0 Axes>"
            ]
          },
          "metadata": {},
          "output_type": "display_data"
        }
      ],
      "source": [
        "itr=2\n",
        "frame_number = 8\n",
        "obs_dim=24\n",
        "act_dim=20\n",
        "device='cpu'\n",
        "algo='ppo'\n",
        "model_idx = ['1000', '2000', '3000', '4000', '5000']\n",
        "seed_list = [20,21,22,23,24,25,26,27,28,29]\n",
        "reward_model = torch.jit.load(f'./reward_model/itr{itr}/model_{frame_number}_gpu.pt', map_location=device)\n",
        "traj_path = 'data/videos'\n",
        "scores = eval_rm(seed_list, traj_path, model_idx, obs_dim, act_dim, frame_number, reward_model, verbose=False)\n",
        "plot_bar_result(scores, frame_number, itr)\n",
        "plot_violin_result(scores, frame_number, itr)\n"
      ]
    },
    {
      "cell_type": "code",
      "execution_count": 131,
      "metadata": {},
      "outputs": [],
      "source": [
        "# select 17 envs\n",
        "env_list = ['ShadowHand', 'ShadowHandCatchAbreast', 'ShadowHandOver', 'ShadowHandBlockStack', 'ShadowHandCatchUnderarm',\n",
        "        'ShadowHandCatchOver2Underarm', 'ShadowHandBottleCap', 'ShadowHandLiftUnderarm', 'ShadowHandTwoCatchUnderarm', 'ShadowHandDoorOpenInward',\n",
        "        'ShadowHandDoorOpenOutward', 'ShadowHandDoorCloseInward', 'ShadowHandGraspAndPlace', 'ShadowHandPushBlock',\n",
        "        'ShadowHandScissors', 'ShadowHandPen', 'ShadowHandSwitch']"
      ]
    },
    {
      "cell_type": "code",
      "execution_count": null,
      "metadata": {},
      "outputs": [],
      "source": []
    }
  ],
  "metadata": {
    "colab": {
      "collapsed_sections": [
        "_gDkU-j-fCmZ",
        "3Zpv4S0-fDBv"
      ],
      "name": "Stock_NeurIPS2018.ipynb",
      "provenance": []
    },
    "kernelspec": {
      "display_name": "Python 3.7.0 ('x')",
      "language": "python",
      "name": "python3"
    },
    "language_info": {
      "codemirror_mode": {
        "name": "ipython",
        "version": 3
      },
      "file_extension": ".py",
      "mimetype": "text/x-python",
      "name": "python",
      "nbconvert_exporter": "python",
      "pygments_lexer": "ipython3",
      "version": "3.7.0"
    },
    "vscode": {
      "interpreter": {
        "hash": "28c6861e59928cb790236f7047915368f37afc12f670e78fd0101a6f825a02b1"
      }
    }
  },
  "nbformat": 4,
  "nbformat_minor": 0
}
